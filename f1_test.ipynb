{
 "cells": [
  {
   "cell_type": "code",
   "execution_count": 18,
   "metadata": {},
   "outputs": [],
   "source": [
    "import requests\n",
    "import pprint\n",
    "import pandas as pd\n",
    "from prettytable import PrettyTable\n",
    "from minio import Minio\n",
    "from minio.error import S3Error\n",
    "import urllib3"
   ]
  },
  {
   "cell_type": "code",
   "execution_count": null,
   "metadata": {},
   "outputs": [],
   "source": [
    "API_URL = \"http://ergast.com/api\"\n",
    "postfix = \".json\""
   ]
  },
  {
   "cell_type": "code",
   "execution_count": null,
   "metadata": {},
   "outputs": [],
   "source": [
    "response = requests.get(API_URL + \"/f1/2008/driverStandings\" + postfix, params={\"Content-Type\": \"application/json\"})\n",
    "raw_data = response.json()\n",
    "data = raw_data[\"MRData\"][\"StandingsTable\"]"
   ]
  },
  {
   "cell_type": "code",
   "execution_count": null,
   "metadata": {},
   "outputs": [],
   "source": [
    "pp = pprint.PrettyPrinter(indent=2, compact=True)\n",
    "pp.pprint(raw_data)"
   ]
  },
  {
   "cell_type": "code",
   "execution_count": null,
   "metadata": {},
   "outputs": [],
   "source": [
    "pp = pprint.PrettyPrinter(indent=2, compact=True)\n",
    "pp.pprint(data)"
   ]
  },
  {
   "cell_type": "code",
   "execution_count": null,
   "metadata": {},
   "outputs": [],
   "source": [
    "for item in data.items():\n",
    "    print(f\"Items: {item}, Type: {type(item)}\")"
   ]
  },
  {
   "cell_type": "code",
   "execution_count": null,
   "metadata": {},
   "outputs": [],
   "source": [
    "df = pd.DataFrame(data)\n",
    "print(df)"
   ]
  },
  {
   "cell_type": "code",
   "execution_count": null,
   "metadata": {},
   "outputs": [],
   "source": [
    "for constructor in raw_data[\"MRData\"][\"StandingsTable\"][\"StandingsLists\"]:\n",
    "    print(type(constructor))"
   ]
  },
  {
   "cell_type": "code",
   "execution_count": null,
   "metadata": {},
   "outputs": [],
   "source": [
    "new_data = raw_data[\"MRData\"][\"StandingsTable\"][\"StandingsLists\"][0]\n",
    "driver_standings = new_data[\"DriverStandings\"]\n",
    "\n",
    "table = PrettyTable()\n",
    "table.field_names = [\"Name\", \"Position\", \"Points\"]\n",
    "\n",
    "for item in driver_standings:\n",
    "    name = item[\"Driver\"][\"givenName\"] + \" \" + item[\"Driver\"][\"familyName\"]\n",
    "    position = item[\"position\"]\n",
    "    points = item[\"points\"]\n",
    "    \n",
    "    table.add_row([name, position, points])\n",
    "    #print(name, position, points)\n",
    "\n",
    "print(table)"
   ]
  }
 ],
 "metadata": {
  "kernelspec": {
   "display_name": "Python 3 (ipykernel)",
   "language": "python",
   "name": "python3"
  },
  "language_info": {
   "codemirror_mode": {
    "name": "ipython",
    "version": 3
   },
   "file_extension": ".py",
   "mimetype": "text/x-python",
   "name": "python",
   "nbconvert_exporter": "python",
   "pygments_lexer": "ipython3",
   "version": "3.11.6"
  }
 },
 "nbformat": 4,
 "nbformat_minor": 4
}
